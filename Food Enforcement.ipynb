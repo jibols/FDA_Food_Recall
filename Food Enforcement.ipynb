{
 "cells": [
  {
   "cell_type": "code",
   "execution_count": 231,
   "metadata": {},
   "outputs": [],
   "source": [
    "# Import Python librarie for data exploration and natural language processing\n",
    "import pandas as pd\n",
    "import json\n",
    "import matplotlib.pyplot as plt\n",
    "import numpy as np\n",
    "from wordcloud import WordCloud, STOPWORDS \n",
    "from gensim import corpora, models\n",
    "import datetime as dt\n",
    "import pickle\n",
    "from nltk.tokenize import word_tokenize\n",
    "from nltk.corpus import stopwords\n",
    "from nltk.stem.wordnet import WordNetLemmatizer\n",
    "from nltk.stem.porter import PorterStemmer\n",
    "import pyLDAvis\n",
    "import pyLDAvis.gensim  # don't skip this\n",
    "%matplotlib inline"
   ]
  },
  {
   "cell_type": "code",
   "execution_count": 232,
   "metadata": {},
   "outputs": [],
   "source": [
    "#food = pd.read_csv(\"food-enforcement.json\")\n",
    "with open('food-enforcement.json') as json_file:\n",
    "    data = json.load(json_file)"
   ]
  },
  {
   "cell_type": "code",
   "execution_count": 233,
   "metadata": {},
   "outputs": [],
   "source": [
    "food = pd.DataFrame(data['results'])"
   ]
  },
  {
   "cell_type": "code",
   "execution_count": 234,
   "metadata": {},
   "outputs": [
    {
     "data": {
      "text/html": [
       "<div>\n",
       "<style scoped>\n",
       "    .dataframe tbody tr th:only-of-type {\n",
       "        vertical-align: middle;\n",
       "    }\n",
       "\n",
       "    .dataframe tbody tr th {\n",
       "        vertical-align: top;\n",
       "    }\n",
       "\n",
       "    .dataframe thead th {\n",
       "        text-align: right;\n",
       "    }\n",
       "</style>\n",
       "<table border=\"1\" class=\"dataframe\">\n",
       "  <thead>\n",
       "    <tr style=\"text-align: right;\">\n",
       "      <th></th>\n",
       "      <th>address_1</th>\n",
       "      <th>address_2</th>\n",
       "      <th>center_classification_date</th>\n",
       "      <th>city</th>\n",
       "      <th>classification</th>\n",
       "      <th>code_info</th>\n",
       "      <th>country</th>\n",
       "      <th>distribution_pattern</th>\n",
       "      <th>event_id</th>\n",
       "      <th>initial_firm_notification</th>\n",
       "      <th>...</th>\n",
       "      <th>product_type</th>\n",
       "      <th>reason_for_recall</th>\n",
       "      <th>recall_initiation_date</th>\n",
       "      <th>recall_number</th>\n",
       "      <th>recalling_firm</th>\n",
       "      <th>report_date</th>\n",
       "      <th>state</th>\n",
       "      <th>status</th>\n",
       "      <th>termination_date</th>\n",
       "      <th>voluntary_mandated</th>\n",
       "    </tr>\n",
       "  </thead>\n",
       "  <tbody>\n",
       "    <tr>\n",
       "      <th>0</th>\n",
       "      <td>748 S Alameda St</td>\n",
       "      <td></td>\n",
       "      <td>20120926</td>\n",
       "      <td>Los Angeles</td>\n",
       "      <td>Class II</td>\n",
       "      <td>not available.</td>\n",
       "      <td>United States</td>\n",
       "      <td>California</td>\n",
       "      <td>63150</td>\n",
       "      <td>E-Mail</td>\n",
       "      <td>...</td>\n",
       "      <td>Food</td>\n",
       "      <td>M &amp; K Trading is recalling Korean Molluscan Sh...</td>\n",
       "      <td>20120921</td>\n",
       "      <td>F-2396-2012</td>\n",
       "      <td>M &amp; K Trading Inc</td>\n",
       "      <td>20121003</td>\n",
       "      <td>CA</td>\n",
       "      <td>Terminated</td>\n",
       "      <td>20120926</td>\n",
       "      <td>Voluntary: Firm Initiated</td>\n",
       "    </tr>\n",
       "    <tr>\n",
       "      <th>1</th>\n",
       "      <td>4401 Foxdale St</td>\n",
       "      <td></td>\n",
       "      <td>20120924</td>\n",
       "      <td>Irwindale</td>\n",
       "      <td>Class I</td>\n",
       "      <td>UPC 7774523746, Use by dates 9/8/2012 or earli...</td>\n",
       "      <td>United States</td>\n",
       "      <td>Nationwide to following US States and Canada: ...</td>\n",
       "      <td>63062</td>\n",
       "      <td>Press Release</td>\n",
       "      <td>...</td>\n",
       "      <td>Food</td>\n",
       "      <td>Firm is voluntarily recalling, out of an abund...</td>\n",
       "      <td>20120831</td>\n",
       "      <td>F-2382-2012</td>\n",
       "      <td>Ready Pac Foods Inc</td>\n",
       "      <td>20121003</td>\n",
       "      <td>CA</td>\n",
       "      <td>Terminated</td>\n",
       "      <td>20121025</td>\n",
       "      <td>Voluntary: Firm Initiated</td>\n",
       "    </tr>\n",
       "    <tr>\n",
       "      <th>2</th>\n",
       "      <td>2315 Moore Ave</td>\n",
       "      <td></td>\n",
       "      <td>20120927</td>\n",
       "      <td>Fullerton</td>\n",
       "      <td>Class II</td>\n",
       "      <td>UPC 0-30871-33001-2, Item # 0291710.</td>\n",
       "      <td>United States</td>\n",
       "      <td>Nationwide and Canada.</td>\n",
       "      <td>62991</td>\n",
       "      <td>Letter</td>\n",
       "      <td>...</td>\n",
       "      <td>Food</td>\n",
       "      <td>The firm recalled due to a potential non-safet...</td>\n",
       "      <td>20120712</td>\n",
       "      <td>F-2438-2012</td>\n",
       "      <td>Pulmuone Wildwood Inc</td>\n",
       "      <td>20121003</td>\n",
       "      <td>CA</td>\n",
       "      <td>Terminated</td>\n",
       "      <td>20121217</td>\n",
       "      <td>Voluntary: Firm Initiated</td>\n",
       "    </tr>\n",
       "    <tr>\n",
       "      <th>3</th>\n",
       "      <td>2315 Moore Ave</td>\n",
       "      <td></td>\n",
       "      <td>20120927</td>\n",
       "      <td>Fullerton</td>\n",
       "      <td>Class II</td>\n",
       "      <td>UPC 0-52334-11659-9, Item # 0291661.</td>\n",
       "      <td>United States</td>\n",
       "      <td>Nationwide and Canada.</td>\n",
       "      <td>62991</td>\n",
       "      <td>Letter</td>\n",
       "      <td>...</td>\n",
       "      <td>Food</td>\n",
       "      <td>The firm recalled due to a potential non-safet...</td>\n",
       "      <td>20120712</td>\n",
       "      <td>F-2436-2012</td>\n",
       "      <td>Pulmuone Wildwood Inc</td>\n",
       "      <td>20121003</td>\n",
       "      <td>CA</td>\n",
       "      <td>Terminated</td>\n",
       "      <td>20121217</td>\n",
       "      <td>Voluntary: Firm Initiated</td>\n",
       "    </tr>\n",
       "    <tr>\n",
       "      <th>4</th>\n",
       "      <td>1720 Locust Grove Road</td>\n",
       "      <td></td>\n",
       "      <td>20120921</td>\n",
       "      <td>Manheim</td>\n",
       "      <td>Class II</td>\n",
       "      <td>No codes; all product \"Purchase by date shown ...</td>\n",
       "      <td>United States</td>\n",
       "      <td>Product was distributed to specific wholesale ...</td>\n",
       "      <td>62465</td>\n",
       "      <td>Telephone</td>\n",
       "      <td>...</td>\n",
       "      <td>Food</td>\n",
       "      <td>FDA samples of product tested positive for Fum...</td>\n",
       "      <td>20120417</td>\n",
       "      <td>F-2374-2012</td>\n",
       "      <td>Haldeman Mills</td>\n",
       "      <td>20121003</td>\n",
       "      <td>PA</td>\n",
       "      <td>Terminated</td>\n",
       "      <td>20130716</td>\n",
       "      <td>Voluntary: Firm Initiated</td>\n",
       "    </tr>\n",
       "  </tbody>\n",
       "</table>\n",
       "<p>5 rows × 25 columns</p>\n",
       "</div>"
      ],
      "text/plain": [
       "                address_1 address_2 center_classification_date         city  \\\n",
       "0        748 S Alameda St                             20120926  Los Angeles   \n",
       "1         4401 Foxdale St                             20120924    Irwindale   \n",
       "2          2315 Moore Ave                             20120927    Fullerton   \n",
       "3          2315 Moore Ave                             20120927    Fullerton   \n",
       "4  1720 Locust Grove Road                             20120921      Manheim   \n",
       "\n",
       "  classification                                          code_info  \\\n",
       "0       Class II                                     not available.   \n",
       "1        Class I  UPC 7774523746, Use by dates 9/8/2012 or earli...   \n",
       "2       Class II               UPC 0-30871-33001-2, Item # 0291710.   \n",
       "3       Class II               UPC 0-52334-11659-9, Item # 0291661.   \n",
       "4       Class II  No codes; all product \"Purchase by date shown ...   \n",
       "\n",
       "         country                               distribution_pattern event_id  \\\n",
       "0  United States                                         California    63150   \n",
       "1  United States  Nationwide to following US States and Canada: ...    63062   \n",
       "2  United States                             Nationwide and Canada.    62991   \n",
       "3  United States                             Nationwide and Canada.    62991   \n",
       "4  United States  Product was distributed to specific wholesale ...    62465   \n",
       "\n",
       "  initial_firm_notification  ... product_type  \\\n",
       "0                    E-Mail  ...         Food   \n",
       "1             Press Release  ...         Food   \n",
       "2                    Letter  ...         Food   \n",
       "3                    Letter  ...         Food   \n",
       "4                 Telephone  ...         Food   \n",
       "\n",
       "                                   reason_for_recall recall_initiation_date  \\\n",
       "0  M & K Trading is recalling Korean Molluscan Sh...               20120921   \n",
       "1  Firm is voluntarily recalling, out of an abund...               20120831   \n",
       "2  The firm recalled due to a potential non-safet...               20120712   \n",
       "3  The firm recalled due to a potential non-safet...               20120712   \n",
       "4  FDA samples of product tested positive for Fum...               20120417   \n",
       "\n",
       "  recall_number         recalling_firm report_date state      status  \\\n",
       "0   F-2396-2012      M & K Trading Inc    20121003    CA  Terminated   \n",
       "1   F-2382-2012    Ready Pac Foods Inc    20121003    CA  Terminated   \n",
       "2   F-2438-2012  Pulmuone Wildwood Inc    20121003    CA  Terminated   \n",
       "3   F-2436-2012  Pulmuone Wildwood Inc    20121003    CA  Terminated   \n",
       "4   F-2374-2012         Haldeman Mills    20121003    PA  Terminated   \n",
       "\n",
       "  termination_date         voluntary_mandated  \n",
       "0         20120926  Voluntary: Firm Initiated  \n",
       "1         20121025  Voluntary: Firm Initiated  \n",
       "2         20121217  Voluntary: Firm Initiated  \n",
       "3         20121217  Voluntary: Firm Initiated  \n",
       "4         20130716  Voluntary: Firm Initiated  \n",
       "\n",
       "[5 rows x 25 columns]"
      ]
     },
     "execution_count": 234,
     "metadata": {},
     "output_type": "execute_result"
    }
   ],
   "source": [
    "food.head()"
   ]
  },
  {
   "cell_type": "code",
   "execution_count": 235,
   "metadata": {},
   "outputs": [],
   "source": [
    "columns = ['center_classification_date', 'city','classification', 'code_info', 'country', 'distribution_pattern',\n",
    "       'event_id', 'initial_firm_notification', 'more_code_info', 'openfda', 'postal_code', 'product_description', 'product_quantity',\n",
    "       'product_type', 'reason_for_recall', 'recall_initiation_date', 'recall_number', 'recalling_firm', 'report_date', 'state', 'status',\n",
    "       'termination_date', 'voluntary_mandated']"
   ]
  },
  {
   "cell_type": "code",
   "execution_count": 236,
   "metadata": {},
   "outputs": [],
   "source": [
    "food = food[columns]"
   ]
  },
  {
   "cell_type": "code",
   "execution_count": 237,
   "metadata": {},
   "outputs": [],
   "source": [
    "food['new_recall_date'] = food['recall_initiation_date'].map(lambda x: dt.datetime.strptime(x, '%Y%m%d'))"
   ]
  },
  {
   "cell_type": "code",
   "execution_count": 238,
   "metadata": {},
   "outputs": [
    {
     "data": {
      "text/plain": [
       "'02121207'"
      ]
     },
     "execution_count": 238,
     "metadata": {},
     "output_type": "execute_result"
    }
   ],
   "source": [
    "food['recall_initiation_date'].min()"
   ]
  },
  {
   "cell_type": "code",
   "execution_count": 239,
   "metadata": {},
   "outputs": [
    {
     "data": {
      "text/plain": [
       "datetime.datetime(2019, 7, 18, 0, 0)"
      ]
     },
     "execution_count": 239,
     "metadata": {},
     "output_type": "execute_result"
    }
   ],
   "source": [
    "food['new_recall_date'].max()"
   ]
  },
  {
   "cell_type": "markdown",
   "metadata": {},
   "source": [
    "## Let's explore the reason for recall column\n",
    "Most of the recalls were due to bacterial contamination, lack of Good manufacturing practices(GMP) and poor temperature control. We would apply topic modelling to extract the 3 most important topics in that column"
   ]
  },
  {
   "cell_type": "code",
   "execution_count": 240,
   "metadata": {},
   "outputs": [],
   "source": [
    "#food['reason_for_recall'].value_counts()[:30]"
   ]
  },
  {
   "cell_type": "code",
   "execution_count": 241,
   "metadata": {},
   "outputs": [],
   "source": [
    "food['tokenized_reason'] = food['reason_for_recall'].apply(word_tokenize) "
   ]
  },
  {
   "cell_type": "code",
   "execution_count": 242,
   "metadata": {},
   "outputs": [
    {
     "data": {
      "text/plain": [
       "0    [M, &, K, Trading, is, recalling, Korean, Moll...\n",
       "1    [Firm, is, voluntarily, recalling, ,, out, of,...\n",
       "2    [The, firm, recalled, due, to, a, potential, n...\n",
       "3    [The, firm, recalled, due, to, a, potential, n...\n",
       "4    [FDA, samples, of, product, tested, positive, ...\n",
       "Name: tokenized_reason, dtype: object"
      ]
     },
     "execution_count": 242,
     "metadata": {},
     "output_type": "execute_result"
    }
   ],
   "source": [
    "food['tokenized_reason'].head()"
   ]
  },
  {
   "cell_type": "code",
   "execution_count": 243,
   "metadata": {},
   "outputs": [],
   "source": [
    "def generate_ngrams(text, n_gram=2):\n",
    "    token = [token for token in text.lower().split(\" \") if token != \"\" if token not in STOPWORDS]\n",
    "    ngrams = zip(*[token[i:] for i in range(n_gram)])\n",
    "    return [\" \".join(ngram) for ngram in ngrams]"
   ]
  },
  {
   "cell_type": "code",
   "execution_count": 244,
   "metadata": {},
   "outputs": [],
   "source": [
    "food['tokenized_gram'] = food['reason_for_recall'].apply(generate_ngrams) "
   ]
  },
  {
   "cell_type": "code",
   "execution_count": 245,
   "metadata": {},
   "outputs": [
    {
     "data": {
      "image/png": "[encoded data removed]",
      "text/plain": [
       "<Figure size 1440x1080 with 1 Axes>"
      ]
     },
     "metadata": {},
     "output_type": "display_data"
    }
   ],
   "source": [
    "wordcloud_ = WordCloud(   background_color='black',\n",
    "                          stopwords=set(STOPWORDS),\n",
    "                          max_words=250,\n",
    "                          max_font_size=40, \n",
    "                          random_state=1705\n",
    "                         ).generate(str(food['tokenized_gram'].dropna()))\n",
    "def cloud_plot(wordcloud):\n",
    "    fig = plt.figure(1, figsize=(20,15))\n",
    "    plt.imshow(wordcloud)\n",
    "    plt.axis('off')\n",
    "    plt.show()\n",
    "cloud_plot(wordcloud_)"
   ]
  },
  {
   "cell_type": "code",
   "execution_count": 252,
   "metadata": {},
   "outputs": [],
   "source": [
    "def generate_lda(texts,no_passes=20):\n",
    "    dictionary = corpora.Dictionary(texts)\n",
    "    corpus = [dictionary.doc2bow(text) for text in texts]\n",
    "    lda_model = models.ldamodel.LdaModel(corpus, num_topics=3, id2word = dictionary, passes=no_passes,minimum_probability=0)\n",
    "    return lda_model"
   ]
  },
  {
   "cell_type": "code",
   "execution_count": 253,
   "metadata": {},
   "outputs": [],
   "source": [
    "np.random.seed(1)\n",
    "doc_clean = food['tokenized_gram'].tolist()\n",
    "output = generate_lda(doc_clean)"
   ]
  },
  {
   "cell_type": "code",
   "execution_count": 254,
   "metadata": {},
   "outputs": [
    {
     "data": {
      "text/plain": [
       "[(0,\n",
       "  '0.023*\"may contain\" + 0.017*\"contain undeclared\" + 0.015*\"product may\" + 0.012*\"undeclared milk.\" + 0.010*\"due potential\"'),\n",
       " (1,\n",
       "  '0.012*\"listeria monocytogenes\" + 0.008*\"recalled due\" + 0.007*\"ice cream\" + 0.007*\"due potential\" + 0.006*\"dietary supplements\"'),\n",
       " (2,\n",
       "  '0.026*\"held appropriate\" + 0.025*\"temperature due\" + 0.025*\"mechanical malfunction\" + 0.025*\"malfunction transportation.\" + 0.025*\"due mechanical\"')]"
      ]
     },
     "execution_count": 254,
     "metadata": {},
     "output_type": "execute_result"
    }
   ],
   "source": [
    "output.print_topics(num_topics=5, num_words=5)"
   ]
  },
  {
   "cell_type": "markdown",
   "metadata": {},
   "source": [
    "### Using LDA, we can see that there are 3 topics describing the reasons for recall\n"
   ]
  },
  {
   "cell_type": "code",
   "execution_count": null,
   "metadata": {},
   "outputs": [],
   "source": [
    "#doc_term_matrix"
   ]
  },
  {
   "cell_type": "code",
   "execution_count": null,
   "metadata": {},
   "outputs": [],
   "source": [
    "#doc_topics, word_topics, phi_values = lda.get_document_topics(bow, per_word_topics=True)"
   ]
  },
  {
   "cell_type": "code",
   "execution_count": null,
   "metadata": {},
   "outputs": [],
   "source": [
    "from itertools import chain\n",
    "# Assigns the topics to the documents in corpus\n",
    "lda_corpus = lda[doc_term_matrix]\n",
    "\n",
    "# Find the threshold, let's set the threshold to be 1/#clusters,\n",
    "# To prove that the threshold is sane, we average the sum of all probabilities:\n",
    "scores = list(chain(*[[score for topic_id,score in topic] \\\n",
    "                      for topic in [doc for doc in lda_corpus]]))\n",
    "threshold = sum(scores)/len(scores)\n",
    "print(round(threshold,3))"
   ]
  },
  {
   "cell_type": "code",
   "execution_count": null,
   "metadata": {},
   "outputs": [],
   "source": [
    "#cluster1 = [j for i,j in zip(lda_corpus,doc_clean) if i[0][1] > threshold]\n",
    "#cluster2 = [j for i,j in zip(lda_corpus,doc_clean) if i[1][1] > threshold]\n",
    "#cluster3 = [j for i,j in zip(lda_corpus,doc_clean) if i[2][1] > threshold]\n",
    "\n",
    "#print cluster1\n",
    "#print cluster2\n",
    "#print cluster3'''"
   ]
  },
  {
   "cell_type": "code",
   "execution_count": null,
   "metadata": {},
   "outputs": [],
   "source": [
    "len(doc_clean)"
   ]
  },
  {
   "cell_type": "code",
   "execution_count": null,
   "metadata": {},
   "outputs": [],
   "source": [
    "lda_corpus."
   ]
  },
  {
   "cell_type": "code",
   "execution_count": null,
   "metadata": {},
   "outputs": [],
   "source": [
    "p = pyLDAvis.gensim.prepare(topic_model, corpus, dictionary)\n",
    "pyLDAvis.save_html(p, 'lda.html')"
   ]
  },
  {
   "cell_type": "code",
   "execution_count": null,
   "metadata": {},
   "outputs": [],
   "source": [
    "# Compute Perplexity\n",
    "print('\\nPerplexity: ', loaded_model.log_perplexity(corpus))  # a measure of how good the model is. lower the better.\n",
    "\n",
    "# Compute Coherence Score\n",
    "coherence_model_lda = CoherenceModel(model=loaded_model, texts=data_lemmatized, dictionary=id2word, coherence='c_v')\n",
    "coherence_lda = coherence_model_lda.get_coherence()\n",
    "print('\\nCoherence Score: ', coherence_lda)"
   ]
  },
  {
   "cell_type": "code",
   "execution_count": null,
   "metadata": {},
   "outputs": [],
   "source": []
  },
  {
   "cell_type": "code",
   "execution_count": 176,
   "metadata": {},
   "outputs": [],
   "source": [
    "#food['reason_for_recall'].value_counts()[:20]"
   ]
  },
  {
   "cell_type": "code",
   "execution_count": null,
   "metadata": {},
   "outputs": [],
   "source": []
  },
  {
   "cell_type": "code",
   "execution_count": null,
   "metadata": {},
   "outputs": [],
   "source": []
  },
  {
   "cell_type": "code",
   "execution_count": null,
   "metadata": {},
   "outputs": [],
   "source": []
  },
  {
   "cell_type": "code",
   "execution_count": null,
   "metadata": {},
   "outputs": [],
   "source": []
  }
 ],
 "metadata": {
  "kernelspec": {
   "display_name": "Python 3",
   "language": "python",
   "name": "python3"
  },
  "language_info": {
   "codemirror_mode": {
    "name": "ipython",
    "version": 3
   },
   "file_extension": ".py",
   "mimetype": "text/x-python",
   "name": "python",
   "nbconvert_exporter": "python",
   "pygments_lexer": "ipython3",
   "version": "3.6.5"
  }
 },
 "nbformat": 4,
 "nbformat_minor": 2
}
